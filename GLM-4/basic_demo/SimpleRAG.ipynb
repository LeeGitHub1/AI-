{
 "cells": [
  {
   "cell_type": "code",
   "execution_count": null,
   "id": "initial_id",
   "metadata": {
    "collapsed": true
   },
   "outputs": [],
   "source": [
    "from zhipuai import ZhipuAI\n",
    "import os\n",
    "\n",
    "def get_zhipu_embeddings(texts):\n",
    "    zhipuai = ZhipuAI(api_key=os.environ.get(\"ZHIPU_API_KEY\"))\n",
    "def get_dashscope_embeddings(texts):\n",
    "    embeddings = DashScopeEmbeddings(\n",
    "        model=\"text-embedding-v2\",\n",
    "        dashscope_api_key=\"sk-f9414689d64e4cadb700f84bf7dea6a1\"\n",
    "    )\n",
    "    return embeddings.embed_documents(texts)\n",
    "\n",
    "\n",
    "def get_dashscope_query_embedding(text):\n",
    "    embeddings = DashScopeEmbeddings(\n",
    "        model=\"text-embedding-v2\",\n",
    "        dashscope_api_key=\"sk-f9414689d64e4cadb700f84bf7dea6a1\"\n",
    "    )\n",
    "    return embeddings.embed_query(text)\n",
    "\n",
    "print(len(get_dashscope_embeddings([\"hello world\", \"hello\"])[0]))\n",
    "print(len(get_dashscope_query_embedding([\"hello world\"])))"
   ]
  }
 ],
 "metadata": {
  "kernelspec": {
   "display_name": "Python 3",
   "language": "python",
   "name": "python3"
  },
  "language_info": {
   "codemirror_mode": {
    "name": "ipython",
    "version": 2
   },
   "file_extension": ".py",
   "mimetype": "text/x-python",
   "name": "python",
   "nbconvert_exporter": "python",
   "pygments_lexer": "ipython2",
   "version": "2.7.6"
  }
 },
 "nbformat": 4,
 "nbformat_minor": 5
}
