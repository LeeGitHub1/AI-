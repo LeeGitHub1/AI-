{
 "cells": [
  {
   "metadata": {
    "ExecuteTime": {
     "end_time": "2024-07-23T13:05:40.578207Z",
     "start_time": "2024-07-23T13:05:40.571587Z"
    }
   },
   "cell_type": "code",
   "source": [
    "import csv\n",
    "sentences = [\n",
    "    \"刚刚出炉的法式面包，外皮酥脆，内里柔软，散发着诱人的麦香。\",\n",
    "    \"这碗热气腾腾的牛肉面，汤头浓郁，牛肉酥烂，让人忍不住连汤带面一扫而光。\",\n",
    "    \"那道经典的宫保鸡丁，酸甜辣三味交织，鸡肉嫩滑，花生香脆，是下饭的好菜。\",\n",
    "    \"新鲜采摘的草莓搭配上自制的奶油，做成的草莓奶油蛋糕，甜而不腻，是夏日里的一抹清凉。\",\n",
    "    \"这杯摩卡咖啡，顶层的奶油与巧克力酱交织，每一口都是甜蜜的诱惑。\",\n",
    "    \"那家老字号的烤鸭店，烤鸭皮脆肉嫩，搭配上甜面酱和葱丝，风味独特。\",\n",
    "    \"这盘清蒸鲈鱼，鱼肉鲜嫩，汤汁清澈，保留了海鲜的原汁原味。\",\n",
    "    \"那道招牌红烧肉，色泽红亮，肥而不腻，入口即化，是传统美食的代表。\",\n",
    "    \"这杯冰镇的芒果奶昔，芒果的香甜与奶香完美融合，是炎炎夏日的最佳解暑饮品。\",\n",
    "    \"那家小店的手工饺子，皮薄馅大，一口咬下去，肉汁四溢，满口留香。\",\n",
    "    \"这盘色香味俱全的麻辣香锅，各种食材在麻辣的汤底中翻滚，让人欲罢不能。\"\n",
    "]\n",
    "\n",
    "# 打开或创建CSV文件，并写入数据\n",
    "with open('./csv/food.csv', 'w', newline='', encoding='utf-8') as file:\n",
    "    writer = csv.writer(file)\n",
    "    # 写入列名\n",
    "    writer.writerow(['text'])\n",
    "    # 写入句子数据\n",
    "    for sentence in sentences:\n",
    "        writer.writerow([sentence])"
   ],
   "id": "509e98b6d184d9f",
   "outputs": [],
   "execution_count": 4
  },
  {
   "metadata": {
    "ExecuteTime": {
     "end_time": "2024-07-23T13:06:56.433669Z",
     "start_time": "2024-07-23T13:06:56.426458Z"
    }
   },
   "cell_type": "code",
   "source": [
    "sentences = [\n",
    "    \"清晨的薄雾笼罩着山谷，阳光透过树梢，洒下斑驳的光影。\",\n",
    "    \"站在山顶上，放眼望去，连绵起伏的山脉在朝阳的映照下显得格外壮观。\",\n",
    "    \"那片蔚蓝的大海在落日的余晖中泛着金色的波光，美得令人心醉。\",\n",
    "    \"秋天的枫叶如火，随风飘落，铺满了小径，为大地披上了一层红色的外衣。\",\n",
    "    \"夜幕降临，星空璀璨，每一颗星星都像是在诉说着古老的传说。\",\n",
    "    \"那片广袤的草原上，牛羊成群，自由地在绿海中徜徉。\",\n",
    "    \"站在瀑布前，水雾扑面而来，轰鸣的水声让人感受到大自然的力量。\",\n",
    "    \"那座古老的石桥，横跨在清澈的溪流上，见证了岁月的变迁。\",\n",
    "    \"沙漠中的绿洲，棕榈树随风摇曳，为这片荒凉的土地带来了生机。\",\n",
    "    \"那片绚烂的花海，五彩斑斓的花朵竞相开放，像是大地上的调色板。\"\n",
    "]\n",
    "\n",
    "# 打开或创建CSV文件，并写入数据\n",
    "with open('./csv/scenery.csv', 'w', newline='', encoding='utf-8') as file:\n",
    "    writer = csv.writer(file)\n",
    "    # 写入列名\n",
    "    writer.writerow(['text'])\n",
    "    # 写入句子数据\n",
    "    for sentence in sentences:\n",
    "        writer.writerow([sentence])"
   ],
   "id": "33be0f90db8dc8d4",
   "outputs": [],
   "execution_count": 5
  },
  {
   "metadata": {
    "ExecuteTime": {
     "end_time": "2024-07-23T13:07:28.131412Z",
     "start_time": "2024-07-23T13:07:28.125108Z"
    }
   },
   "cell_type": "code",
   "source": [
    "sentences = [\n",
    "    \"图书馆的书架上摆满了知识的宝藏，等待着我们去探索。\",\n",
    "    \"每天的学习都是自我提升的过程，不断积累，不断进步。\",\n",
    "    \"通过在线课程，我们可以接触到世界各地的先进知识。\",\n",
    "    \"学习编程不仅能够锻炼逻辑思维，还能打开通往未来的大门。\",\n",
    "    \"阅读经典文学作品，能让我们跨越时空与伟大的思想家对话。\",\n",
    "    \"掌握一门外语，不仅是学习一种交流工具，更是了解一种文化。\",\n",
    "    \"通过实验和实践，我们可以将理论知识转化为解决实际问题的能力。\",\n",
    "    \"学习历史，让我们了解过去，更好地理解现在，预测未来。\",\n",
    "    \"艺术课程能够培养我们的审美能力，激发创造力和想象力。\",\n",
    "    \"通过参与学术研讨，我们能够与他人交流思想，拓宽视野。\"\n",
    "]\n",
    "\n",
    "# 打开或创建CSV文件，并写入数据\n",
    "with open('./csv/study.csv', 'w', newline='', encoding='utf-8') as file:\n",
    "    writer = csv.writer(file)\n",
    "    # 写入列名\n",
    "    writer.writerow(['text'])\n",
    "    # 写入句子数据\n",
    "    for sentence in sentences:\n",
    "        writer.writerow([sentence])"
   ],
   "id": "313dde4d8649694b",
   "outputs": [],
   "execution_count": 6
  },
  {
   "metadata": {
    "ExecuteTime": {
     "end_time": "2024-07-23T12:55:53.706824Z",
     "start_time": "2024-07-23T12:55:53.693932Z"
    }
   },
   "cell_type": "code",
   "source": [
    "import pandas as pd\n",
    "\n",
    "df = pd.read_csv('./csv/demo.csv')\n",
    "for i, row in df.iterrows():\n",
    "    print(row)"
   ],
   "id": "ec635f25a6662678",
   "outputs": [
    {
     "name": "stdout",
     "output_type": "stream",
     "text": [
      "text    星空下，古老的钟楼敲响了午夜的钟声。\n",
      "Name: 0, dtype: object\n",
      "text    她手中的画笔在画布上舞动，描绘出一片生机勃勃的花园。\n",
      "Name: 1, dtype: object\n",
      "text    那个小男孩在沙滩上堆起了一座高高的沙堡。\n",
      "Name: 2, dtype: object\n",
      "text    科学家们在实验室里发现了一种新的化合物。\n",
      "Name: 3, dtype: object\n",
      "text    他决定在周末去爬山，享受大自然的宁静。\n",
      "Name: 4, dtype: object\n",
      "text    那本书的封面设计非常吸引人，让人忍不住想要翻开阅读。\n",
      "Name: 5, dtype: object\n",
      "text    她用温柔的声音安抚着怀里的小猫。\n",
      "Name: 6, dtype: object\n",
      "text    窗外的雨滴轻轻敲打着窗户，像是在演奏一首宁静的曲子。\n",
      "Name: 7, dtype: object\n",
      "text    他们计划在假期去海边度假，享受阳光和沙滩。\n",
      "Name: 8, dtype: object\n",
      "text    那座古老的城堡隐藏在茂密的森林中，充满了神秘感。\n",
      "Name: 9, dtype: object\n",
      "text    他每天都会在公园里慢跑，呼吸新鲜的空气。\n",
      "Name: 10, dtype: object\n",
      "text    她喜欢在夜晚仰望星空，寻找属于自己的星座。\n",
      "Name: 11, dtype: object\n",
      "text    那家咖啡馆的拿铁咖啡味道醇厚，是她的最爱。\n",
      "Name: 12, dtype: object\n",
      "text    他们一起在图书馆里度过了一个安静的下午。\n",
      "Name: 13, dtype: object\n",
      "text    那座大桥横跨河流，连接了两岸的城市。\n",
      "Name: 14, dtype: object\n",
      "text    他决定学习一门新的语言，拓宽自己的视野。\n",
      "Name: 15, dtype: object\n",
      "text    她喜欢在厨房里尝试各种食谱，创造出美味的菜肴。\n",
      "Name: 16, dtype: object\n",
      "text    那片稻田在夕阳的照耀下，呈现出金黄色的美景。\n",
      "Name: 17, dtype: object\n",
      "text    他们一起在电影院观看了一部感人至深的电影。\n",
      "Name: 18, dtype: object\n",
      "text    那座山的顶峰常年积雪，是登山爱好者的挑战之地。\n",
      "Name: 19, dtype: object\n"
     ]
    }
   ],
   "execution_count": 3
  }
 ],
 "metadata": {
  "kernelspec": {
   "display_name": "Python 3",
   "language": "python",
   "name": "python3"
  },
  "language_info": {
   "codemirror_mode": {
    "name": "ipython",
    "version": 2
   },
   "file_extension": ".py",
   "mimetype": "text/x-python",
   "name": "python",
   "nbconvert_exporter": "python",
   "pygments_lexer": "ipython2",
   "version": "2.7.6"
  }
 },
 "nbformat": 4,
 "nbformat_minor": 5
}
