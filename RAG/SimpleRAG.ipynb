{
 "cells": [
  {
   "cell_type": "code",
   "id": "initial_id",
   "metadata": {
    "collapsed": true,
    "ExecuteTime": {
     "end_time": "2024-07-23T15:23:26.271903Z",
     "start_time": "2024-07-23T15:23:23.807292Z"
    }
   },
   "source": [
    "from zhipuai import ZhipuAI\n",
    "import os\n",
    "from langchain_community.embeddings import ZhipuAIEmbeddings\n",
    "from dotenv import load_dotenv\n",
    "load_dotenv(\"../.env\")\n",
    "\n",
    "embd_zhipu = []\n",
    "\n",
    "def get_embedding(text, platform, model):\n",
    "    text = text.replace(\"\\n\", \" \")\n",
    "    return platform.embeddings.create(input=text,model=model).data[0].embedding\n",
    "\n",
    "\n",
    "def get_zhipu_embeddings_list(text_list):\n",
    "    zhipuai = ZhipuAI(api_key=os.environ.get(\"ZHIPU_API_KEY\"))\n",
    "    for text in text_list:\n",
    "        embd = get_embedding(text, zhipuai, \"embedding-2\")\n",
    "        embd_zhipu.append(embd)\n",
    "    \n",
    "    \n",
    "# 用于知识库\n",
    "def get_zhipu_embeddings_docs(texts):\n",
    "    embeddings = ZhipuAIEmbeddings(\n",
    "        api_key=os.environ.get(\"ZHIPUAI_API_KEY\")\n",
    "    )\n",
    "    return embeddings.embed_documents(texts)\n",
    "\n",
    "\n",
    "# 用于查询\n",
    "def get_zhipu_embeddings_queries(texts):\n",
    "    embeddings = ZhipuAIEmbeddings(\n",
    "        api_key=os.environ.get(\"ZHIPU_API_KEY\")\n",
    "    )\n",
    "    return embeddings.embed_documents(texts)\n",
    "\n",
    "print(len(get_zhipu_embeddings_docs([\"hello world\", \"hello\"])[0]))\n",
    "print(len(get_zhipu_embeddings_queries([\"hello world\"])[0]))"
   ],
   "outputs": [
    {
     "name": "stdout",
     "output_type": "stream",
     "text": [
      "1024\n",
      "1024\n"
     ]
    }
   ],
   "execution_count": 1
  },
  {
   "metadata": {
    "ExecuteTime": {
     "end_time": "2024-07-23T15:23:27.645166Z",
     "start_time": "2024-07-23T15:23:26.274911Z"
    }
   },
   "cell_type": "code",
   "source": [
    "# 连接zilliz\n",
    "from pymilvus import utility, FieldSchema, DataType, CollectionSchema, Collection, connections\n",
    "\n",
    "connections.connect(\n",
    "  alias='default', \n",
    "  uri=os.environ.get(\"CLUSTER_ENDPOINT\"),\n",
    "  token=os.environ.get(\"TOKEN\"), \n",
    ")"
   ],
   "id": "17ff8e22765be654",
   "outputs": [],
   "execution_count": 2
  },
  {
   "metadata": {
    "ExecuteTime": {
     "end_time": "2024-07-23T15:23:27.653506Z",
     "start_time": "2024-07-23T15:23:27.647177Z"
    }
   },
   "cell_type": "code",
   "source": [
    "# 新建一个collection，相当于sql里面的表\n",
    "def get_schema():\n",
    "    field1 = FieldSchema(name=\"id\", dtype=DataType.INT64, is_primary=True, auto_id=True)\n",
    "    field2 = FieldSchema(name=\"text\", dtype=DataType.VARCHAR, max_length=512)\n",
    "    # field3 = FieldSchema(name=\"url\", dtype=DataType.VARCHAR, max_length=512)\n",
    "    field4 = FieldSchema(name=\"text_vector\", dtype=DataType.FLOAT_VECTOR, dim=1024)  # 智谱embedding后是1024\n",
    "    schema = CollectionSchema(fields=[field1, field2, field4])\n",
    "    return schema\n",
    "\n",
    "def recreate_collection(collection_name):\n",
    "    utility.drop_collection(collection_name=collection_name)\n",
    "    schema = get_schema()\n",
    "    collection = Collection(name=collection_name, schema=schema)\n",
    "    index_params = {\n",
    "        \"index_type\": \"AUTOINDEX\",\n",
    "        \"metric_type\": \"L2\",\n",
    "        \"params\": {}\n",
    "    }\n",
    "    collection.create_index(\n",
    "        field_name=\"text_vector\",\n",
    "        index_params=index_params,\n",
    "        index_name='vector_idx'\n",
    "    )\n",
    "    collection.load()\n",
    "    return collection\n",
    "\n",
    "def get_collection(collection_name):\n",
    "    return Collection(name=collection_name)"
   ],
   "id": "dd07c81f2cf9d40e",
   "outputs": [],
   "execution_count": 3
  },
  {
   "metadata": {
    "ExecuteTime": {
     "end_time": "2024-07-23T15:23:27.662378Z",
     "start_time": "2024-07-23T15:23:27.655515Z"
    }
   },
   "cell_type": "code",
   "source": [
    "def insert_data(collection, df):\n",
    "    vectors = df['embedding'].tolist()\n",
    "    data = [\n",
    "        {\"text\": f\"{text}\", \"text_vector\": vector} for text, vector in zip(df['text'], vectors)\n",
    "    ]\n",
    "    collection.insert(data)"
   ],
   "id": "b975f646e815ab1",
   "outputs": [],
   "execution_count": 4
  },
  {
   "metadata": {
    "ExecuteTime": {
     "end_time": "2024-07-23T15:23:45.314424Z",
     "start_time": "2024-07-23T15:23:27.664388Z"
    }
   },
   "cell_type": "code",
   "source": [
    "import pandas as pd\n",
    "import os\n",
    "collection = recreate_collection(\"big_create_demo\")\n",
    "for file in os.listdir('csv'):\n",
    "    df = pd.read_csv(f'csv/{file}')\n",
    "    df['embedding'] = get_zhipu_embeddings_docs(df['text'].tolist())\n",
    "    insert_data(collection, df)\n",
    "    collection.flush()\n",
    "    print(f\"inserted {file}, total entities: {collection.num_entities}\")"
   ],
   "id": "ce66d23317e2bd3f",
   "outputs": [
    {
     "name": "stdout",
     "output_type": "stream",
     "text": [
      "inserted food.csv, total entities: 11\n",
      "inserted scenery.csv, total entities: 21\n",
      "inserted study.csv, total entities: 31\n"
     ]
    }
   ],
   "execution_count": 5
  },
  {
   "metadata": {
    "ExecuteTime": {
     "end_time": "2024-07-23T15:23:47.396082Z",
     "start_time": "2024-07-23T15:23:45.317444Z"
    }
   },
   "cell_type": "code",
   "source": [
    "def search(collection, query_embedding, top_k=5):\n",
    "    search_params = {\n",
    "        \"metric_type\": \"L2\",\n",
    "        \"params\": {\"level\": 2}\n",
    "    }\n",
    "    results = collection.search(\n",
    "        query_embedding,\n",
    "        anns_field=\"text_vector\",\n",
    "        param=search_params,\n",
    "        limit=top_k,\n",
    "        output_fields=[\"text\"]\n",
    "    )\n",
    "    return results\n",
    "\n",
    "# query_embedding = get_openai_embedding([\"单项奖学金\"])[0]\n",
    "collection = get_collection(\"big_create_demo\")\n",
    "query_embedding = get_zhipu_embeddings_queries([\"想吃北餐二楼的鸡公煲\"])\n",
    "results = search(collection, query_embedding)\n",
    "\n",
    "for i in results[0]:\n",
    "    print(f\"{i.entity.get('text')}\\n\")\n",
    "    \n",
    "print('---------------------')\n",
    "\n",
    "query_embedding = get_zhipu_embeddings_queries([\"想吃北餐二楼的麻辣鸡公煲\"])\n",
    "results = search(collection, query_embedding)\n",
    "\n",
    "for i in results[0]:\n",
    "    print(f\"{i.entity.get('text')}\\n\")"
   ],
   "id": "fd1c15b74d511084",
   "outputs": [
    {
     "name": "stdout",
     "output_type": "stream",
     "text": [
      "那家老字号的烤鸭店，烤鸭皮脆肉嫩，搭配上甜面酱和葱丝，风味独特。\n",
      "\n",
      "那道经典的宫保鸡丁，酸甜辣三味交织，鸡肉嫩滑，花生香脆，是下饭的好菜。\n",
      "\n",
      "那道招牌红烧肉，色泽红亮，肥而不腻，入口即化，是传统美食的代表。\n",
      "\n",
      "这盘色香味俱全的麻辣香锅，各种食材在麻辣的汤底中翻滚，让人欲罢不能。\n",
      "\n",
      "这盘清蒸鲈鱼，鱼肉鲜嫩，汤汁清澈，保留了海鲜的原汁原味。\n",
      "\n",
      "---------------------\n",
      "那家老字号的烤鸭店，烤鸭皮脆肉嫩，搭配上甜面酱和葱丝，风味独特。\n",
      "\n",
      "这盘色香味俱全的麻辣香锅，各种食材在麻辣的汤底中翻滚，让人欲罢不能。\n",
      "\n",
      "那道经典的宫保鸡丁，酸甜辣三味交织，鸡肉嫩滑，花生香脆，是下饭的好菜。\n",
      "\n",
      "那道招牌红烧肉，色泽红亮，肥而不腻，入口即化，是传统美食的代表。\n",
      "\n",
      "这碗热气腾腾的牛肉面，汤头浓郁，牛肉酥烂，让人忍不住连汤带面一扫而光。\n",
      "\n"
     ]
    }
   ],
   "execution_count": 6
  },
  {
   "metadata": {
    "ExecuteTime": {
     "end_time": "2024-07-23T15:23:53.647309Z",
     "start_time": "2024-07-23T15:23:47.398181Z"
    }
   },
   "cell_type": "code",
   "source": [
    "# question = \"xxx\"\n",
    "# embedding = get_zhipu_embeddings_queries(question)\n",
    "# results = search(collection, [embedding])\n",
    "# context = \"\"\n",
    "# for i in results[0]:\n",
    "#     context += f\"{i.entity.get('text')}\\n\"\n",
    "# \n",
    "# template = f'''你是回答问题的助理。使用以下检索到的上下文来回答问题，在回复答案时请携带原文链接（如有）。如果你不知道答案，就说你不知道。\n",
    "# 上下文: {context} \n",
    "# 问题: {question} \n",
    "# 回答:'''\n",
    "\n",
    "from langchain.prompts import PromptTemplate\n",
    "from langchain_openai import ChatOpenAI\n",
    "from langchain_community.vectorstores import Milvus\n",
    "from langchain_core.runnables import RunnablePassthrough\n",
    "\n",
    "os.environ[\"OPENAI_API_KEY\"] = \"EMPTY\"\n",
    "os.environ[\"OPENAI_API_BASE\"] = 'https://862a-101-7-169-63.ngrok-free.app/v1/'\n",
    "\n",
    "vectorstore = Milvus(\n",
    "    embedding_function = ZhipuAIEmbeddings(model=\"embedding-2\"),\n",
    "    collection_name = \"big_create_demo\",\n",
    "    connection_args={\n",
    "        \"uri\": os.environ.get(\"CLUSTER_ENDPOINT\"),\n",
    "        \"token\": os.environ.get(\"TOKEN\"),  # API key, for serverless clusters which can be used as replacements for user and password\n",
    "        \"secure\": True,\n",
    "    },\n",
    "    primary_field=\"id\",\n",
    "    text_field=\"text\",\n",
    "    vector_field=\"text_vector\",\n",
    ")\n",
    "retriever = vectorstore.as_retriever(search_kwargs=dict(k=5))\n",
    "\n",
    "template = '''你是回答问题的助理。使用以下检索到的上下文来回答问题，在回复答案时请携带原文（如有）。如果你不知道答案，就说你不知道。\n",
    "上下文: {context} \n",
    "问题: {question} \n",
    "回答:'''\n",
    "\n",
    "llm = ChatOpenAI()\n",
    "prompt = PromptTemplate.from_template(template=template)\n",
    "\n",
    "rag_chain = (\n",
    "    # input question\n",
    "    {\"context\": retriever, \"question\": RunnablePassthrough()}\n",
    "    | prompt\n",
    "    | llm\n",
    ")\n",
    "\n",
    "res = rag_chain.invoke(\"明天的甜点吃什么比较好呢？\")\n",
    "res.content"
   ],
   "id": "6b946298e8e65e70",
   "outputs": [
    {
     "name": "stderr",
     "output_type": "stream",
     "text": [
      "D:\\anaconda3\\Lib\\site-packages\\langchain_core\\_api\\deprecation.py:139: LangChainDeprecationWarning: The class `Milvus` was deprecated in LangChain 0.2.0 and will be removed in 0.3.0. An updated version of the class exists in the langchain-milvus package and should be used instead. To use it run `pip install -U langchain-milvus` and import as `from langchain_milvus import MilvusVectorStore`.\n",
      "  warn_deprecated(\n"
     ]
    },
    {
     "data": {
      "text/plain": [
       "\"明天的甜点可以考虑吃新鲜采摘的草莓搭配上自制的奶油，做成的草莓奶油蛋糕，它甜而不腻，是夏日里的一抹清凉。[Document(metadata={'id': 451225562374003371}, page_content='新鲜采摘的草莓搭配上自制的奶油，做成的草莓奶油蛋糕，甜而不腻，是夏日里的一抹清凉。')]\""
      ]
     },
     "execution_count": 7,
     "metadata": {},
     "output_type": "execute_result"
    }
   ],
   "execution_count": 7
  }
 ],
 "metadata": {
  "kernelspec": {
   "display_name": "Python 3",
   "language": "python",
   "name": "python3"
  },
  "language_info": {
   "codemirror_mode": {
    "name": "ipython",
    "version": 2
   },
   "file_extension": ".py",
   "mimetype": "text/x-python",
   "name": "python",
   "nbconvert_exporter": "python",
   "pygments_lexer": "ipython2",
   "version": "2.7.6"
  }
 },
 "nbformat": 4,
 "nbformat_minor": 5
}
